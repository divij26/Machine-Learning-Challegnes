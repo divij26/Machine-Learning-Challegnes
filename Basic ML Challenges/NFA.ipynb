{
 "cells": [
  {
   "cell_type": "code",
   "execution_count": 2,
   "metadata": {},
   "outputs": [],
   "source": [
    "import sys"
   ]
  },
  {
   "cell_type": "code",
   "execution_count": 28,
   "metadata": {},
   "outputs": [
    {
     "name": "stdout",
     "output_type": "stream",
     "text": [
      "Enter a string of a(s) and b(s):: ababa\n",
      "aa\n",
      "ab\n",
      "ba\n",
      "ab\n",
      "ba\n"
     ]
    }
   ],
   "source": [
    "q1, q2, q3, q4 = \"ab\" , \"aa\", \"bb\", \"ba\"\n",
    "states = [q1, q2, q3]\n",
    "\n",
    "\n",
    "str = input(\"Enter a string of a(s) and b(s):: \")\n",
    "for i in str :\n",
    "    if(i not in ['a','b']):\n",
    "        print(\"Only a and b allowed\")\n",
    "        #sys.exit()\n",
    "\n",
    "for i in range(len(str)):\n",
    "    \n",
    "    if(str[i-1]+str[i] in states):\n",
    "        print(str[i-1]+str[i])\n",
    "    "
   ]
  },
  {
   "cell_type": "code",
   "execution_count": null,
   "metadata": {},
   "outputs": [],
   "source": []
  }
 ],
 "metadata": {
  "kernelspec": {
   "display_name": "Python 3",
   "language": "python",
   "name": "python3"
  },
  "language_info": {
   "codemirror_mode": {
    "name": "ipython",
    "version": 3
   },
   "file_extension": ".py",
   "mimetype": "text/x-python",
   "name": "python",
   "nbconvert_exporter": "python",
   "pygments_lexer": "ipython3",
   "version": "3.7.3"
  }
 },
 "nbformat": 4,
 "nbformat_minor": 2
}
