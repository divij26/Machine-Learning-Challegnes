{
 "cells": [
  {
   "cell_type": "code",
   "execution_count": 1,
   "metadata": {},
   "outputs": [],
   "source": [
    "import numpy as np\n",
    "import pandas as pd\n",
    "import matplotlib.pyplot as plt"
   ]
  },
  {
   "cell_type": "code",
   "execution_count": 54,
   "metadata": {},
   "outputs": [
    {
     "name": "stdout",
     "output_type": "stream",
     "text": [
      "(99,)\n",
      "(99,)\n"
     ]
    }
   ],
   "source": [
    "dfx = pd.read_csv(r\"C:\\Users\\Divij\\Desktop\\Data Science\\Datasets\\machine-learning-online-2018-master\\Datasets\\Linear Regression\\linearX.csv\")\n",
    "dfy = pd.read_csv(r\"C:\\Users\\Divij\\Desktop\\Data Science\\Datasets\\machine-learning-online-2018-master\\Datasets\\Linear Regression\\linearY.csv\")\n",
    "\n",
    "x = dfx.values\n",
    "y = dfy.values\n",
    "\n",
    "x = x.reshape((-1,))\n",
    "y = y.reshape((-1,))\n",
    "print(x.shape)\n",
    "print(y.shape)"
   ]
  },
  {
   "cell_type": "code",
   "execution_count": 55,
   "metadata": {},
   "outputs": [
    {
     "data": {
      "image/png": "[encoded data removed]",
      "text/plain": [
       "<Figure size 432x288 with 1 Axes>"
      ]
     },
     "metadata": {
      "needs_background": "light"
     },
     "output_type": "display_data"
    }
   ],
   "source": [
    "X = (x-x.mean())/x.std()\n",
    "Y = y\n",
    "\n",
    "plt.scatter(x,y)\n",
    "\n",
    "plt.scatter(X,Y)\n",
    "plt.show()"
   ]
  },
  {
   "cell_type": "code",
   "execution_count": 51,
   "metadata": {},
   "outputs": [],
   "source": [
    "def hypothesis(x,theta):\n",
    "    return theta[0] + theta[1]*x\n",
    "\n",
    "\n",
    "def error(X,Y,theta):\n",
    "    \n",
    "    m = X.shape[0]\n",
    "    error = 0\n",
    "    \n",
    "    for i in range(m):\n",
    "        hx = hypothesis(X[i],theta)\n",
    "        error += (hx-Y[i])**2\n",
    "        \n",
    "    return error\n",
    "\n",
    "def gradient(X,Y,theta):\n",
    "    \n",
    "    grad = np.zeros((2,))\n",
    "    m = X.shape[0]\n",
    "\n",
    "    for i in range(m):\n",
    "        hx = hypothesis(X[i],theta)\n",
    "        grad[0] +=  (hx-Y[i])\n",
    "        grad[1] += (hx-Y[i])*X[i]\n",
    "        \n",
    "    return grad\n",
    "    \n",
    "#Algorithm\n",
    "def gradientDescent(X,Y,learning_rate=0.001):\n",
    "    \n",
    "    theta = np.array([-2.0,0.0])\n",
    "    \n",
    "    itr = 0\n",
    "    max_itr = 100\n",
    "    \n",
    "    error_list = []\n",
    "    theta_list = []\n",
    "    \n",
    "    while(itr<=max_itr):\n",
    "        grad = gradient(X,Y,theta)\n",
    "        e = error(X,Y,theta)\n",
    "        error_list.append(e)\n",
    "        \n",
    "        theta_list.append((theta[0],theta[1]))\n",
    "        theta[0] = theta[0] - learning_rate*grad[0]\n",
    "        theta[1] = theta[1] - learning_rate*grad[1]\n",
    "        \n",
    "        \n",
    "        itr += 1\n",
    "        \n",
    "    \n",
    "    return theta,error_list,theta_list\n",
    "\n",
    "    "
   ]
  },
  {
   "cell_type": "code",
   "execution_count": 52,
   "metadata": {},
   "outputs": [],
   "source": [
    "theta, error_list, theta_list = gradientDescent(X,Y)"
   ]
  },
  {
   "cell_type": "code",
   "execution_count": 53,
   "metadata": {},
   "outputs": [
    {
     "data": {
      "image/png": "[encoded data removed]",
      "text/plain": [
       "<Figure size 432x288 with 1 Axes>"
      ]
     },
     "metadata": {
      "needs_background": "light"
     },
     "output_type": "display_data"
    }
   ],
   "source": [
    "plt.plot(error_list)\n",
    "plt.show()"
   ]
  },
  {
   "cell_type": "code",
   "execution_count": null,
   "metadata": {},
   "outputs": [],
   "source": []
  },
  {
   "cell_type": "code",
   "execution_count": null,
   "metadata": {},
   "outputs": [],
   "source": []
  }
 ],
 "metadata": {
  "kernelspec": {
   "display_name": "Python 3",
   "language": "python",
   "name": "python3"
  },
  "language_info": {
   "codemirror_mode": {
    "name": "ipython",
    "version": 3
   },
   "file_extension": ".py",
   "mimetype": "text/x-python",
   "name": "python",
   "nbconvert_exporter": "python",
   "pygments_lexer": "ipython3",
   "version": "3.7.3"
  }
 },
 "nbformat": 4,
 "nbformat_minor": 2
}
